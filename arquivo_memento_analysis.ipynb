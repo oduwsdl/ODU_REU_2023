{
  "nbformat": 4,
  "nbformat_minor": 0,
  "metadata": {
    "colab": {
      "provenance": []
    },
    "kernelspec": {
      "name": "python3",
      "display_name": "Python 3"
    },
    "language_info": {
      "name": "python"
    }
  },
  "cells": [
    {
      "cell_type": "code",
      "execution_count": null,
      "metadata": {
        "id": "yM3iY7vb6L4C"
      },
      "outputs": [],
      "source": [
        "import pandas as pd\n",
        "import seaborn as sns\n",
        "import matplotlib.pyplot as plt"
      ]
    },
    {
      "cell_type": "code",
      "source": [
        "df=pd.read_csv('login_arquivo.csv')\n",
        "for i in range(1,9991):\n",
        "  if (i%2)==0:\n",
        "    df=df.drop(i)"
      ],
      "metadata": {
        "id": "HPGEpoeH6Otn"
      },
      "execution_count": null,
      "outputs": []
    },
    {
      "cell_type": "code",
      "source": [
        "df=df.drop(0)"
      ],
      "metadata": {
        "id": "XobXEyb_6Rob"
      },
      "execution_count": null,
      "outputs": []
    },
    {
      "cell_type": "code",
      "source": [
        "def get_rows_in_df(df):\n",
        "    return int(df.describe().loc['count'][0])"
      ],
      "metadata": {
        "id": "P166HH3nUbvF"
      },
      "execution_count": null,
      "outputs": []
    },
    {
      "cell_type": "code",
      "source": [
        "df['year']"
      ],
      "metadata": {
        "colab": {
          "base_uri": "https://localhost:8080/"
        },
        "id": "MrXg-nYbUk3I",
        "outputId": "6f6b2020-b162-4fa3-d17b-099a81aa2a5e"
      },
      "execution_count": null,
      "outputs": [
        {
          "output_type": "execute_result",
          "data": {
            "text/plain": [
              "1       2017.0\n",
              "3       2017.0\n",
              "5       2019.0\n",
              "7       2019.0\n",
              "9       2019.0\n",
              "         ...  \n",
              "9983    2023.0\n",
              "9985    2023.0\n",
              "9987    2023.0\n",
              "9989    2023.0\n",
              "9991    2023.0\n",
              "Name: year, Length: 4996, dtype: float64"
            ]
          },
          "metadata": {},
          "execution_count": 33
        }
      ]
    },
    {
      "cell_type": "code",
      "source": [
        "x={2017:0, 2018:0, 2019:0, 2020:0, 2021:0, 2022:0, 2023:0}\n",
        "for i in range(get_rows_in_df(df)):\n",
        "  x[int(df.iloc[i].year)]+=1\n"
      ],
      "metadata": {
        "id": "T37JRMvgUSLD"
      },
      "execution_count": null,
      "outputs": []
    },
    {
      "cell_type": "code",
      "source": [
        "sns.barplot(x=list(x.keys()), y=list(x.values()))\n",
        "\n",
        "# Set plot labels\n",
        "plt.xlabel('Year')\n",
        "plt.ylabel('Quantity of Mementos')\n",
        "plt.title('Arquivo Mementos to the Instagram Login Page Over Time')\n",
        "\n",
        "# Display the plot\n",
        "plt.show()"
      ],
      "metadata": {
        "colab": {
          "base_uri": "https://localhost:8080/",
          "height": 472
        },
        "id": "2RfWDLFzVR2J",
        "outputId": "0c5b1c0d-1a92-43e4-88de-2db20a8a5b91"
      },
      "execution_count": null,
      "outputs": [
        {
          "output_type": "display_data",
          "data": {
            "text/plain": [
              "<Figure size 640x480 with 1 Axes>"
            ],
            "image/png": "[encoded data removed]"
          },
          "metadata": {}
        }
      ]
    },
    {
      "cell_type": "code",
      "source": [
        "df_2019=df[df['year']==2019.0]\n",
        "df_2019.head(20)"
      ],
      "metadata": {
        "colab": {
          "base_uri": "https://localhost:8080/",
          "height": 676
        },
        "id": "JyCM5DR0XeP5",
        "outputId": "e8c54eff-ac51-4d61-b455-c8c341a39073"
      },
      "execution_count": null,
      "outputs": [
        {
          "output_type": "execute_result",
          "data": {
            "text/plain": [
              "      year                                               urim       date  \\\n",
              "5   2019.0  https://arquivo.pt/wayback/20190808035347/http...   8/8/2019   \n",
              "7   2019.0  https://arquivo.pt/wayback/20190821190352/http...  8/21/2019   \n",
              "9   2019.0  https://arquivo.pt/wayback/20190822170715/http...  8/22/2019   \n",
              "11  2019.0  https://arquivo.pt/wayback/20190823171634/http...  8/23/2019   \n",
              "13  2019.0  https://arquivo.pt/wayback/20190824170633/http...  8/24/2019   \n",
              "15  2019.0  https://arquivo.pt/wayback/20190825171524/http...  8/25/2019   \n",
              "17  2019.0  https://arquivo.pt/wayback/20190826171612/http...  8/26/2019   \n",
              "19  2019.0  https://arquivo.pt/wayback/20190827171707/http...  8/27/2019   \n",
              "21  2019.0  https://arquivo.pt/wayback/20190828170828/http...  8/28/2019   \n",
              "23  2019.0  https://arquivo.pt/wayback/20190829172942/http...  8/29/2019   \n",
              "25  2019.0  https://arquivo.pt/wayback/20190830170738/http...  8/30/2019   \n",
              "27  2019.0  https://arquivo.pt/wayback/20190831171303/http...  8/31/2019   \n",
              "29  2019.0  https://arquivo.pt/wayback/20190901170807/http...   9/1/2019   \n",
              "31  2019.0  https://arquivo.pt/wayback/20190902171711/http...   9/2/2019   \n",
              "33  2019.0  https://arquivo.pt/wayback/20190903172200/http...   9/3/2019   \n",
              "35  2019.0  https://arquivo.pt/wayback/20190904171226/http...   9/4/2019   \n",
              "37  2019.0  https://arquivo.pt/wayback/20190905170848/http...   9/5/2019   \n",
              "39  2019.0  https://arquivo.pt/wayback/20190906172137/http...   9/6/2019   \n",
              "41  2019.0  https://arquivo.pt/wayback/20190907043622/http...   9/7/2019   \n",
              "43  2019.0  https://arquivo.pt/wayback/20190907043736/http...   9/7/2019   \n",
              "\n",
              "        time  \n",
              "5    3:53:47  \n",
              "7   19:03:52  \n",
              "9   17:07:15  \n",
              "11  17:16:34  \n",
              "13  17:06:33  \n",
              "15  17:15:24  \n",
              "17  17:16:12  \n",
              "19  17:17:07  \n",
              "21  17:08:28  \n",
              "23  17:29:42  \n",
              "25  17:07:38  \n",
              "27  17:13:03  \n",
              "29  17:08:07  \n",
              "31  17:17:11  \n",
              "33  17:22:00  \n",
              "35  17:12:26  \n",
              "37  17:08:48  \n",
              "39  17:21:37  \n",
              "41   4:36:22  \n",
              "43   4:37:36  "
            ],
            "text/html": [
              "\n",
              "\n",
              "  <div id=\"df-7b0efe90-8ce0-4c16-bf73-6563f4b10f06\">\n",
              "    <div class=\"colab-df-container\">\n",
              "      <div>\n",
              "<style scoped>\n",
              "    .dataframe tbody tr th:only-of-type {\n",
              "        vertical-align: middle;\n",
              "    }\n",
              "\n",
              "    .dataframe tbody tr th {\n",
              "        vertical-align: top;\n",
              "    }\n",
              "\n",
              "    .dataframe thead th {\n",
              "        text-align: right;\n",
              "    }\n",
              "</style>\n",
              "<table border=\"1\" class=\"dataframe\">\n",
              "  <thead>\n",
              "    <tr style=\"text-align: right;\">\n",
              "      <th></th>\n",
              "      <th>year</th>\n",
              "      <th>urim</th>\n",
              "      <th>date</th>\n",
              "      <th>time</th>\n",
              "    </tr>\n",
              "  </thead>\n",
              "  <tbody>\n",
              "    <tr>\n",
              "      <th>5</th>\n",
              "      <td>2019.0</td>\n",
              "      <td>https://arquivo.pt/wayback/20190808035347/http...</td>\n",
              "      <td>8/8/2019</td>\n",
              "      <td>3:53:47</td>\n",
              "    </tr>\n",
              "    <tr>\n",
              "      <th>7</th>\n",
              "      <td>2019.0</td>\n",
              "      <td>https://arquivo.pt/wayback/20190821190352/http...</td>\n",
              "      <td>8/21/2019</td>\n",
              "      <td>19:03:52</td>\n",
              "    </tr>\n",
              "    <tr>\n",
              "      <th>9</th>\n",
              "      <td>2019.0</td>\n",
              "      <td>https://arquivo.pt/wayback/20190822170715/http...</td>\n",
              "      <td>8/22/2019</td>\n",
              "      <td>17:07:15</td>\n",
              "    </tr>\n",
              "    <tr>\n",
              "      <th>11</th>\n",
              "      <td>2019.0</td>\n",
              "      <td>https://arquivo.pt/wayback/20190823171634/http...</td>\n",
              "      <td>8/23/2019</td>\n",
              "      <td>17:16:34</td>\n",
              "    </tr>\n",
              "    <tr>\n",
              "      <th>13</th>\n",
              "      <td>2019.0</td>\n",
              "      <td>https://arquivo.pt/wayback/20190824170633/http...</td>\n",
              "      <td>8/24/2019</td>\n",
              "      <td>17:06:33</td>\n",
              "    </tr>\n",
              "    <tr>\n",
              "      <th>15</th>\n",
              "      <td>2019.0</td>\n",
              "      <td>https://arquivo.pt/wayback/20190825171524/http...</td>\n",
              "      <td>8/25/2019</td>\n",
              "      <td>17:15:24</td>\n",
              "    </tr>\n",
              "    <tr>\n",
              "      <th>17</th>\n",
              "      <td>2019.0</td>\n",
              "      <td>https://arquivo.pt/wayback/20190826171612/http...</td>\n",
              "      <td>8/26/2019</td>\n",
              "      <td>17:16:12</td>\n",
              "    </tr>\n",
              "    <tr>\n",
              "      <th>19</th>\n",
              "      <td>2019.0</td>\n",
              "      <td>https://arquivo.pt/wayback/20190827171707/http...</td>\n",
              "      <td>8/27/2019</td>\n",
              "      <td>17:17:07</td>\n",
              "    </tr>\n",
              "    <tr>\n",
              "      <th>21</th>\n",
              "      <td>2019.0</td>\n",
              "      <td>https://arquivo.pt/wayback/20190828170828/http...</td>\n",
              "      <td>8/28/2019</td>\n",
              "      <td>17:08:28</td>\n",
              "    </tr>\n",
              "    <tr>\n",
              "      <th>23</th>\n",
              "      <td>2019.0</td>\n",
              "      <td>https://arquivo.pt/wayback/20190829172942/http...</td>\n",
              "      <td>8/29/2019</td>\n",
              "      <td>17:29:42</td>\n",
              "    </tr>\n",
              "    <tr>\n",
              "      <th>25</th>\n",
              "      <td>2019.0</td>\n",
              "      <td>https://arquivo.pt/wayback/20190830170738/http...</td>\n",
              "      <td>8/30/2019</td>\n",
              "      <td>17:07:38</td>\n",
              "    </tr>\n",
              "    <tr>\n",
              "      <th>27</th>\n",
              "      <td>2019.0</td>\n",
              "      <td>https://arquivo.pt/wayback/20190831171303/http...</td>\n",
              "      <td>8/31/2019</td>\n",
              "      <td>17:13:03</td>\n",
              "    </tr>\n",
              "    <tr>\n",
              "      <th>29</th>\n",
              "      <td>2019.0</td>\n",
              "      <td>https://arquivo.pt/wayback/20190901170807/http...</td>\n",
              "      <td>9/1/2019</td>\n",
              "      <td>17:08:07</td>\n",
              "    </tr>\n",
              "    <tr>\n",
              "      <th>31</th>\n",
              "      <td>2019.0</td>\n",
              "      <td>https://arquivo.pt/wayback/20190902171711/http...</td>\n",
              "      <td>9/2/2019</td>\n",
              "      <td>17:17:11</td>\n",
              "    </tr>\n",
              "    <tr>\n",
              "      <th>33</th>\n",
              "      <td>2019.0</td>\n",
              "      <td>https://arquivo.pt/wayback/20190903172200/http...</td>\n",
              "      <td>9/3/2019</td>\n",
              "      <td>17:22:00</td>\n",
              "    </tr>\n",
              "    <tr>\n",
              "      <th>35</th>\n",
              "      <td>2019.0</td>\n",
              "      <td>https://arquivo.pt/wayback/20190904171226/http...</td>\n",
              "      <td>9/4/2019</td>\n",
              "      <td>17:12:26</td>\n",
              "    </tr>\n",
              "    <tr>\n",
              "      <th>37</th>\n",
              "      <td>2019.0</td>\n",
              "      <td>https://arquivo.pt/wayback/20190905170848/http...</td>\n",
              "      <td>9/5/2019</td>\n",
              "      <td>17:08:48</td>\n",
              "    </tr>\n",
              "    <tr>\n",
              "      <th>39</th>\n",
              "      <td>2019.0</td>\n",
              "      <td>https://arquivo.pt/wayback/20190906172137/http...</td>\n",
              "      <td>9/6/2019</td>\n",
              "      <td>17:21:37</td>\n",
              "    </tr>\n",
              "    <tr>\n",
              "      <th>41</th>\n",
              "      <td>2019.0</td>\n",
              "      <td>https://arquivo.pt/wayback/20190907043622/http...</td>\n",
              "      <td>9/7/2019</td>\n",
              "      <td>4:36:22</td>\n",
              "    </tr>\n",
              "    <tr>\n",
              "      <th>43</th>\n",
              "      <td>2019.0</td>\n",
              "      <td>https://arquivo.pt/wayback/20190907043736/http...</td>\n",
              "      <td>9/7/2019</td>\n",
              "      <td>4:37:36</td>\n",
              "    </tr>\n",
              "  </tbody>\n",
              "</table>\n",
              "</div>\n",
              "      <button class=\"colab-df-convert\" onclick=\"convertToInteractive('df-7b0efe90-8ce0-4c16-bf73-6563f4b10f06')\"\n",
              "              title=\"Convert this dataframe to an interactive table.\"\n",
              "              style=\"display:none;\">\n",
              "\n",
              "  <svg xmlns=\"http://www.w3.org/2000/svg\" height=\"24px\"viewBox=\"0 0 24 24\"\n",
              "       width=\"24px\">\n",
              "    <path d=\"M0 0h24v24H0V0z\" fill=\"none\"/>\n",
              "    <path d=\"M18.56 5.44l.94 2.06.94-2.06 2.06-.94-2.06-.94-.94-2.06-.94 2.06-2.06.94zm-11 1L8.5 8.5l.94-2.06 2.06-.94-2.06-.94L8.5 2.5l-.94 2.06-2.06.94zm10 10l.94 2.06.94-2.06 2.06-.94-2.06-.94-.94-2.06-.94 2.06-2.06.94z\"/><path d=\"M17.41 7.96l-1.37-1.37c-.4-.4-.92-.59-1.43-.59-.52 0-1.04.2-1.43.59L10.3 9.45l-7.72 7.72c-.78.78-.78 2.05 0 2.83L4 21.41c.39.39.9.59 1.41.59.51 0 1.02-.2 1.41-.59l7.78-7.78 2.81-2.81c.8-.78.8-2.07 0-2.86zM5.41 20L4 18.59l7.72-7.72 1.47 1.35L5.41 20z\"/>\n",
              "  </svg>\n",
              "      </button>\n",
              "\n",
              "\n",
              "\n",
              "    <div id=\"df-3ca7da29-af4a-4600-bb6d-181d063c7b80\">\n",
              "      <button class=\"colab-df-quickchart\" onclick=\"quickchart('df-3ca7da29-af4a-4600-bb6d-181d063c7b80')\"\n",
              "              title=\"Suggest charts.\"\n",
              "              style=\"display:none;\">\n",
              "\n",
              "<svg xmlns=\"http://www.w3.org/2000/svg\" height=\"24px\"viewBox=\"0 0 24 24\"\n",
              "     width=\"24px\">\n",
              "    <g>\n",
              "        <path d=\"M19 3H5c-1.1 0-2 .9-2 2v14c0 1.1.9 2 2 2h14c1.1 0 2-.9 2-2V5c0-1.1-.9-2-2-2zM9 17H7v-7h2v7zm4 0h-2V7h2v10zm4 0h-2v-4h2v4z\"/>\n",
              "    </g>\n",
              "</svg>\n",
              "      </button>\n",
              "    </div>\n",
              "\n",
              "<style>\n",
              "  .colab-df-quickchart {\n",
              "    background-color: #E8F0FE;\n",
              "    border: none;\n",
              "    border-radius: 50%;\n",
              "    cursor: pointer;\n",
              "    display: none;\n",
              "    fill: #1967D2;\n",
              "    height: 32px;\n",
              "    padding: 0 0 0 0;\n",
              "    width: 32px;\n",
              "  }\n",
              "\n",
              "  .colab-df-quickchart:hover {\n",
              "    background-color: #E2EBFA;\n",
              "    box-shadow: 0px 1px 2px rgba(60, 64, 67, 0.3), 0px 1px 3px 1px rgba(60, 64, 67, 0.15);\n",
              "    fill: #174EA6;\n",
              "  }\n",
              "\n",
              "  [theme=dark] .colab-df-quickchart {\n",
              "    background-color: #3B4455;\n",
              "    fill: #D2E3FC;\n",
              "  }\n",
              "\n",
              "  [theme=dark] .colab-df-quickchart:hover {\n",
              "    background-color: #434B5C;\n",
              "    box-shadow: 0px 1px 3px 1px rgba(0, 0, 0, 0.15);\n",
              "    filter: drop-shadow(0px 1px 2px rgba(0, 0, 0, 0.3));\n",
              "    fill: #FFFFFF;\n",
              "  }\n",
              "</style>\n",
              "\n",
              "    <script>\n",
              "      async function quickchart(key) {\n",
              "        const containerElement = document.querySelector('#' + key);\n",
              "        const charts = await google.colab.kernel.invokeFunction(\n",
              "            'suggestCharts', [key], {});\n",
              "      }\n",
              "    </script>\n",
              "\n",
              "      <script>\n",
              "\n",
              "function displayQuickchartButton(domScope) {\n",
              "  let quickchartButtonEl =\n",
              "    domScope.querySelector('#df-3ca7da29-af4a-4600-bb6d-181d063c7b80 button.colab-df-quickchart');\n",
              "  quickchartButtonEl.style.display =\n",
              "    google.colab.kernel.accessAllowed ? 'block' : 'none';\n",
              "}\n",
              "\n",
              "        displayQuickchartButton(document);\n",
              "      </script>\n",
              "      <style>\n",
              "    .colab-df-container {\n",
              "      display:flex;\n",
              "      flex-wrap:wrap;\n",
              "      gap: 12px;\n",
              "    }\n",
              "\n",
              "    .colab-df-convert {\n",
              "      background-color: #E8F0FE;\n",
              "      border: none;\n",
              "      border-radius: 50%;\n",
              "      cursor: pointer;\n",
              "      display: none;\n",
              "      fill: #1967D2;\n",
              "      height: 32px;\n",
              "      padding: 0 0 0 0;\n",
              "      width: 32px;\n",
              "    }\n",
              "\n",
              "    .colab-df-convert:hover {\n",
              "      background-color: #E2EBFA;\n",
              "      box-shadow: 0px 1px 2px rgba(60, 64, 67, 0.3), 0px 1px 3px 1px rgba(60, 64, 67, 0.15);\n",
              "      fill: #174EA6;\n",
              "    }\n",
              "\n",
              "    [theme=dark] .colab-df-convert {\n",
              "      background-color: #3B4455;\n",
              "      fill: #D2E3FC;\n",
              "    }\n",
              "\n",
              "    [theme=dark] .colab-df-convert:hover {\n",
              "      background-color: #434B5C;\n",
              "      box-shadow: 0px 1px 3px 1px rgba(0, 0, 0, 0.15);\n",
              "      filter: drop-shadow(0px 1px 2px rgba(0, 0, 0, 0.3));\n",
              "      fill: #FFFFFF;\n",
              "    }\n",
              "  </style>\n",
              "\n",
              "      <script>\n",
              "        const buttonEl =\n",
              "          document.querySelector('#df-7b0efe90-8ce0-4c16-bf73-6563f4b10f06 button.colab-df-convert');\n",
              "        buttonEl.style.display =\n",
              "          google.colab.kernel.accessAllowed ? 'block' : 'none';\n",
              "\n",
              "        async function convertToInteractive(key) {\n",
              "          const element = document.querySelector('#df-7b0efe90-8ce0-4c16-bf73-6563f4b10f06');\n",
              "          const dataTable =\n",
              "            await google.colab.kernel.invokeFunction('convertToInteractive',\n",
              "                                                     [key], {});\n",
              "          if (!dataTable) return;\n",
              "\n",
              "          const docLinkHtml = 'Like what you see? Visit the ' +\n",
              "            '<a target=\"_blank\" href=https://colab.research.google.com/notebooks/data_table.ipynb>data table notebook</a>'\n",
              "            + ' to learn more about interactive tables.';\n",
              "          element.innerHTML = '';\n",
              "          dataTable['output_type'] = 'display_data';\n",
              "          await google.colab.output.renderOutput(dataTable, element);\n",
              "          const docLink = document.createElement('div');\n",
              "          docLink.innerHTML = docLinkHtml;\n",
              "          element.appendChild(docLink);\n",
              "        }\n",
              "      </script>\n",
              "    </div>\n",
              "  </div>\n"
            ]
          },
          "metadata": {},
          "execution_count": 54
        }
      ]
    },
    {
      "cell_type": "code",
      "source": [
        "month_login={1:0, 2:0, 3:0, 4:0, 5:0, 6:0, 7:0, 8:0, 9:0, 10:0, 11:0, 12:0}"
      ],
      "metadata": {
        "id": "itbuVF_iZBmd"
      },
      "execution_count": null,
      "outputs": []
    },
    {
      "cell_type": "code",
      "source": [
        "for i in range(get_rows_in_df(df_2019)):\n",
        "  if df.iloc[i].date.startswith('10/'):\n",
        "    month_login[10]+=1\n",
        "  elif df.iloc[i].date.startswith('11/'):\n",
        "    month_login[11]+=1\n",
        "  elif df.iloc[i].date.startswith('12/'):\n",
        "    month_login[12]+=1\n",
        "  else:\n",
        "    month=int(df.iloc[i].date[0])\n",
        "    month_login[month]+=1"
      ],
      "metadata": {
        "id": "Dyp4XkGJZ3UB"
      },
      "execution_count": null,
      "outputs": []
    },
    {
      "cell_type": "code",
      "source": [
        "month_login"
      ],
      "metadata": {
        "colab": {
          "base_uri": "https://localhost:8080/"
        },
        "id": "YRYvxiCMaTId",
        "outputId": "cbd5a7a7-42ef-4478-deac-81074c925e7b"
      },
      "execution_count": null,
      "outputs": [
        {
          "output_type": "execute_result",
          "data": {
            "text/plain": [
              "{1: 0,\n",
              " 2: 2,\n",
              " 3: 0,\n",
              " 4: 0,\n",
              " 5: 0,\n",
              " 6: 0,\n",
              " 7: 0,\n",
              " 8: 12,\n",
              " 9: 54,\n",
              " 10: 30,\n",
              " 11: 84,\n",
              " 12: 83}"
            ]
          },
          "metadata": {},
          "execution_count": 62
        }
      ]
    },
    {
      "cell_type": "code",
      "source": [
        "sum(list(month_login.values()))"
      ],
      "metadata": {
        "colab": {
          "base_uri": "https://localhost:8080/"
        },
        "id": "X9x_Qv3raVKm",
        "outputId": "3635bc6b-e6e6-4989-c519-23c3a9b32625"
      },
      "execution_count": null,
      "outputs": [
        {
          "output_type": "execute_result",
          "data": {
            "text/plain": [
              "265"
            ]
          },
          "metadata": {},
          "execution_count": 63
        }
      ]
    },
    {
      "cell_type": "code",
      "source": [
        "months = ['Jan', 'Feb', 'Mar', 'Apr', 'May', 'Jun', 'Jul', 'Aug', 'Sep', 'Oct', 'Nov', 'Dec']\n",
        "sns.barplot(x=months, y=list(month_login.values()))\n",
        "\n",
        "# Set plot labels\n",
        "plt.xlabel('Month')\n",
        "plt.ylabel('Quantity of Mementos')\n",
        "plt.title('Arquivo Mementos to the Instagram Login Page in 2019')\n",
        "\n",
        "# Display the plot\n",
        "plt.show()"
      ],
      "metadata": {
        "colab": {
          "base_uri": "https://localhost:8080/",
          "height": 472
        },
        "id": "eRmHUgl6a3qc",
        "outputId": "848df5a1-f5f8-4d83-e456-0e19436b45b9"
      },
      "execution_count": null,
      "outputs": [
        {
          "output_type": "display_data",
          "data": {
            "text/plain": [
              "<Figure size 640x480 with 1 Axes>"
            ],
            "image/png": "[encoded data removed]"
          },
          "metadata": {}
        }
      ]
    },
    {
      "cell_type": "code",
      "source": [
        "# new dataset\n",
        "df=pd.read_csv('t25_arquivo.csv')\n",
        "df.year.unique()"
      ],
      "metadata": {
        "colab": {
          "base_uri": "https://localhost:8080/"
        },
        "id": "i5jR4bx4bjSO",
        "outputId": "f757dfc5-c6a3-48b5-842a-d04d2a89343e"
      },
      "execution_count": null,
      "outputs": [
        {
          "output_type": "execute_result",
          "data": {
            "text/plain": [
              "array([2016, 2018, 2019, 2020, 2021, 2022, 2023, 2017, 2015])"
            ]
          },
          "metadata": {},
          "execution_count": 114
        }
      ]
    },
    {
      "cell_type": "code",
      "source": [
        "df_redirect=df[df['status_code'].isin([301,302])]\n",
        "df_success=df[df['status_code']==200]\n",
        "df_redirect.year.unique()"
      ],
      "metadata": {
        "colab": {
          "base_uri": "https://localhost:8080/"
        },
        "id": "pxHML9d0dpnT",
        "outputId": "07360759-8ec1-4e82-d517-642b1e1929fe"
      },
      "execution_count": null,
      "outputs": [
        {
          "output_type": "execute_result",
          "data": {
            "text/plain": [
              "array([2016, 2018, 2019, 2020, 2021, 2022, 2023, 2017])"
            ]
          },
          "metadata": {},
          "execution_count": 115
        }
      ]
    },
    {
      "cell_type": "code",
      "source": [
        "def get_df_by_year(df, year):\n",
        "    return df[df['year']==year]\n",
        "\n",
        "def evaluate_redirects_to(df):\n",
        "  result={'login':0, '2xx':0}\n",
        "  for x in range(get_rows_in_df(df)):\n",
        "      redirect_type=df.iloc[x].redirect_type\n",
        "      if redirect_type in result.keys():\n",
        "        result[redirect_type]+=1\n",
        "      else:\n",
        "        result[redirect_type]=1\n",
        "  return result\n",
        "\n",
        "def get_percentage_replayable_for_year(df, year):\n",
        "  # get only the mementos in the given year\n",
        "  df_for_year=get_df_by_year(df, year)\n",
        "  print(get_rows_in_df(df_for_year))\n",
        "\n",
        "  #get successes\n",
        "  df_success=df_for_year[df_for_year['status_code']==200]\n",
        "  successes=get_rows_in_df(df_success)\n",
        "\n",
        "  #get redirections(3xx)\n",
        "  df_redirection=df_for_year[df_for_year['status_code'].isin([301, 302])]\n",
        "  print(evaluate_redirects_to(df_redirection))\n",
        "  redirection_to_login=evaluate_redirects_to(df_redirection)['login']\n",
        "\n",
        "  replayable=successes\n",
        "\n",
        "  print('replayable in '+str(year)+': ', replayable)\n",
        "  #all mementos in year - (all redirections - redirections to login)\n",
        "  total=get_rows_in_df(df_for_year)-(get_rows_in_df(df_redirection)-redirection_to_login)\n",
        "  print('total in '+str(year)+': ', total)\n",
        "  print('percentage replayable in', year, ': ')\n",
        "  if total==0:\n",
        "    return float('nan')\n",
        "  print(\"{0:.2f}%\".format(replayable/total * 100))\n",
        "  return round((replayable/total * 100), 2)"
      ],
      "metadata": {
        "id": "MB3bjeIkd57P"
      },
      "execution_count": null,
      "outputs": []
    },
    {
      "cell_type": "code",
      "source": [
        "get_percentage_replayable_for_year(df, 2019)"
      ],
      "metadata": {
        "colab": {
          "base_uri": "https://localhost:8080/"
        },
        "id": "-ZPSMr7igICE",
        "outputId": "0b96c0e5-b502-4779-8d82-840aa6e55631"
      },
      "execution_count": null,
      "outputs": [
        {
          "output_type": "stream",
          "name": "stdout",
          "text": [
            "345\n",
            "{'login': 65, '2xx': 65, nan: 10}\n",
            "replayable in 2019:  205\n",
            "total in 2019:  270\n",
            "percentage replayable in 2019 : \n",
            "75.93%\n"
          ]
        },
        {
          "output_type": "execute_result",
          "data": {
            "text/plain": [
              "75.93"
            ]
          },
          "metadata": {},
          "execution_count": 117
        }
      ]
    },
    {
      "cell_type": "code",
      "source": [
        "percentage_replayable_top_25=[]\n",
        "for year in range(2015,2024):\n",
        "  percent=get_percentage_replayable_for_year(df, year)\n",
        "  percentage_replayable_top_25.append(percent)\n",
        "print(percentage_replayable_top_25)"
      ],
      "metadata": {
        "colab": {
          "base_uri": "https://localhost:8080/"
        },
        "id": "IH-elWtThKzr",
        "outputId": "65373499-b9c9-4bb0-dffc-d37e537bfa3e"
      },
      "execution_count": null,
      "outputs": [
        {
          "output_type": "stream",
          "name": "stdout",
          "text": [
            "11\n",
            "{'login': 0, '2xx': 0}\n",
            "replayable in 2015:  10\n",
            "total in 2015:  11\n",
            "percentage replayable in 2015 : \n",
            "90.91%\n",
            "28\n",
            "{'login': 0, '2xx': 17}\n",
            "replayable in 2016:  10\n",
            "total in 2016:  11\n",
            "percentage replayable in 2016 : \n",
            "90.91%\n",
            "4\n",
            "{'login': 0, '2xx': 3, nan: 1}\n",
            "replayable in 2017:  0\n",
            "total in 2017:  0\n",
            "percentage replayable in 2017 : \n",
            "166\n",
            "{'login': 5, '2xx': 46, nan: 3}\n",
            "replayable in 2018:  112\n",
            "total in 2018:  117\n",
            "percentage replayable in 2018 : \n",
            "95.73%\n",
            "345\n",
            "{'login': 65, '2xx': 65, nan: 10}\n",
            "replayable in 2019:  205\n",
            "total in 2019:  270\n",
            "percentage replayable in 2019 : \n",
            "75.93%\n",
            "691\n",
            "{'login': 430, '2xx': 146, nan: 27}\n",
            "replayable in 2020:  88\n",
            "total in 2020:  518\n",
            "percentage replayable in 2020 : \n",
            "16.99%\n",
            "107\n",
            "{'login': 105, '2xx': 0, nan: 2}\n",
            "replayable in 2021:  0\n",
            "total in 2021:  105\n",
            "percentage replayable in 2021 : \n",
            "0.00%\n",
            "212\n",
            "{'login': 119, '2xx': 8, 'home': 2, nan: 7}\n",
            "replayable in 2022:  64\n",
            "total in 2022:  195\n",
            "percentage replayable in 2022 : \n",
            "32.82%\n",
            "117\n",
            "{'login': 102, '2xx': 2, nan: 4}\n",
            "replayable in 2023:  4\n",
            "total in 2023:  111\n",
            "percentage replayable in 2023 : \n",
            "3.60%\n",
            "[90.91, 90.91, nan, 95.73, 75.93, 16.99, 0.0, 32.82, 3.6]\n"
          ]
        }
      ]
    },
    {
      "cell_type": "code",
      "source": [
        "plt.figure(figsize=(10, 6))\n",
        "years=[2015,2016,2017,2018,2019,2020,2021,2022,2023]\n",
        "\n",
        "lineplot=sns.lineplot(x=years, y=percentage_replayable_top_25, marker='o')\n",
        "#plt.xticks(years)\n",
        "plt.xlabel('Year')\n",
        "plt.ylabel('Percentage Replayable')\n",
        "plt.title('Percentage Replayable Over Time')\n",
        "# Add percentage annotations to the line plot\n",
        "#for i in range(len(years)):\n",
        "    #lineplot.annotate(f'{percentage_replayable_list[i]}%', (years[i], percentage_replayable_list[i]), ha='center', va='bottom')\n",
        "\n",
        "# Show the plot\n",
        "plt.show()"
      ],
      "metadata": {
        "colab": {
          "base_uri": "https://localhost:8080/",
          "height": 564
        },
        "id": "BVgQRJZ_ivu7",
        "outputId": "90a24850-183a-49cb-efdd-bced578dfc72"
      },
      "execution_count": null,
      "outputs": [
        {
          "output_type": "display_data",
          "data": {
            "text/plain": [
              "<Figure size 1000x600 with 1 Axes>"
            ],
            "image/png": "[encoded data removed]"
          },
          "metadata": {}
        }
      ]
    },
    {
      "cell_type": "code",
      "source": [],
      "metadata": {
        "id": "TjyVKZhgjf-U"
      },
      "execution_count": null,
      "outputs": []
    }
  ]
}